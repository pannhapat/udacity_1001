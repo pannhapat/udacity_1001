{
  "nbformat": 4,
  "nbformat_minor": 0,
  "metadata": {
    "colab": {
      "name": "digit predictor CNN.ipynb",
      "provenance": [],
      "include_colab_link": true
    },
    "kernelspec": {
      "name": "python3",
      "display_name": "Python 3"
    },
    "accelerator": "GPU"
  },
  "cells": [
    {
      "cell_type": "markdown",
      "metadata": {
        "id": "view-in-github",
        "colab_type": "text"
      },
      "source": [
        "<a href=\"https://colab.research.google.com/github/pannhapat/udacity_1001/blob/master/digit_predictor_CNN.ipynb\" target=\"_parent\"><img src=\"https://colab.research.google.com/assets/colab-badge.svg\" alt=\"Open In Colab\"/></a>"
      ]
    },
    {
      "cell_type": "code",
      "metadata": {
        "id": "iQxX2eQ2beOB",
        "colab_type": "code",
        "colab": {}
      },
      "source": [
        "#@title Hyper parameter settings\n",
        "epochs = 10 #@param {type:\"number\"}\n",
        "batch_size = 128 #@param {type:\"integer\"}\n",
        "learning_rate = 0.001 #@param {type:\"number\"}\n",
        "dropout_rate = 0.05 #@param {type:\"number\"}"
      ],
      "execution_count": 0,
      "outputs": []
    },
    {
      "cell_type": "code",
      "metadata": {
        "id": "l0_1eJPYu4jp",
        "colab_type": "code",
        "outputId": "491dca97-e2eb-45f4-c401-8ee1feb502e0",
        "colab": {
          "base_uri": "https://localhost:8080/",
          "height": 35
        }
      },
      "source": [
        "#the majority of the code is taken from official keras github\n",
        "#the rest will have reference at the start of the cell\n",
        "#https://github.com/keras-team/keras/blob/master/examples/mnist_mlp.py\n",
        "\n",
        "from __future__ import print_function\n",
        "\n",
        "import keras\n",
        "from keras.datasets import mnist\n",
        "from keras.models import Sequential\n",
        "from keras.layers import Dense, Conv2D, AveragePooling2D, Flatten, Dropout\n",
        "from keras.optimizers import RMSprop\n",
        "\n",
        "num_classes = 10\n",
        "\n",
        "\n",
        "\n"
      ],
      "execution_count": 0,
      "outputs": [
        {
          "output_type": "stream",
          "text": [
            "Using TensorFlow backend.\n"
          ],
          "name": "stderr"
        }
      ]
    },
    {
      "cell_type": "code",
      "metadata": {
        "id": "4lb4UDm7CYkk",
        "colab_type": "code",
        "colab": {}
      },
      "source": [
        "# the data, split between train and test sets\n",
        "(x_train_org, y_train_org), (x_test_org, y_test_org) = mnist.load_data()\n",
        "\n"
      ],
      "execution_count": 0,
      "outputs": []
    },
    {
      "cell_type": "code",
      "metadata": {
        "id": "kh5OyQAIFI74",
        "colab_type": "code",
        "colab": {}
      },
      "source": [
        "#code to plot samples is modified from the soure below\n",
        "#http://parneetk.github.io/blog/neural-networks-in-keras/\n",
        "\n",
        "import matplotlib.pyplot as plt\n",
        "\n",
        "fig = plt.figure(figsize=(10,10))\n",
        "\n",
        "for i in range(num_classes):\n",
        "  for j in range(10):\n",
        "    ax = fig.add_subplot(10, 10, 1 + i*10  + j, xticks=[], yticks=[])\n",
        "    features_idx = x_train_org[y_train_org[:]==i,:]\n",
        "    plt.imshow(features_idx[j], cmap=\"gray\")\n",
        "plt.show()"
      ],
      "execution_count": 0,
      "outputs": []
    },
    {
      "cell_type": "code",
      "metadata": {
        "id": "ZizV1fBc8jC0",
        "colab_type": "code",
        "outputId": "3c796eff-a824-485a-e9ef-be8dcc03248c",
        "colab": {
          "base_uri": "https://localhost:8080/",
          "height": 228
        }
      },
      "source": [
        "#soure of Thai MNIST dataset on github and how to retrieve the data \n",
        "#https://github.com/nextwaverr/Thai-MNIST\n",
        "#https://github.com/nextwaverr/Thai-MNIST/blob/master/Thai_MNIST_Example.py\n",
        "\n",
        "#the link to the dataset file\n",
        "#need to unzip and upload the files to google drive first\n",
        "#https://drive.google.com/open?id=1cZmfAfYXegdGGNISboq7pvPR-KnXmduw\n",
        "\n",
        "from tensorflow.contrib.learn.python.learn.datasets.mnist import extract_images, extract_labels\n",
        "\n",
        "import os\n",
        "\n",
        "datasetpath = '/content/drive/My Drive/media/Thai_MNIST' # Change to path to mapped folder\n",
        "\n",
        "with open(os.path.join(datasetpath, 'train-images-idx3-ubyte.gz'), 'rb') as f:\n",
        "    x_train_th = extract_images(f)\n",
        "with open(os.path.join(datasetpath, 'train-labels-idx1-ubyte.gz'), 'rb') as f:\n",
        "    y_train_th = extract_labels(f)\n",
        "with open(os.path.join(datasetpath, 'test-images-idx3-ubyte.gz'), 'rb') as f:\n",
        "    x_test_th = extract_images(f)\n",
        "with open(os.path.join(datasetpath, 'test-labels-idx1-ubyte.gz'), 'rb') as f:\n",
        "    y_test_th = extract_labels(f)\n"
      ],
      "execution_count": 0,
      "outputs": [
        {
          "output_type": "stream",
          "text": [
            "WARNING: Logging before flag parsing goes to stderr.\n",
            "W0824 09:22:55.361187 139921453045632 deprecation.py:323] From <ipython-input-4-9b5bd4ed016b>:9: extract_images (from tensorflow.contrib.learn.python.learn.datasets.mnist) is deprecated and will be removed in a future version.\n",
            "Instructions for updating:\n",
            "Please use tf.data to implement this functionality.\n"
          ],
          "name": "stderr"
        },
        {
          "output_type": "stream",
          "text": [
            "Extracting /content/drive/My Drive/media/Thai_MNIST/train-images-idx3-ubyte.gz\n"
          ],
          "name": "stdout"
        },
        {
          "output_type": "stream",
          "text": [
            "W0824 09:22:57.408340 139921453045632 deprecation.py:323] From <ipython-input-4-9b5bd4ed016b>:11: extract_labels (from tensorflow.contrib.learn.python.learn.datasets.mnist) is deprecated and will be removed in a future version.\n",
            "Instructions for updating:\n",
            "Please use tf.data to implement this functionality.\n"
          ],
          "name": "stderr"
        },
        {
          "output_type": "stream",
          "text": [
            "Extracting /content/drive/My Drive/media/Thai_MNIST/train-labels-idx1-ubyte.gz\n",
            "Extracting /content/drive/My Drive/media/Thai_MNIST/test-images-idx3-ubyte.gz\n",
            "Extracting /content/drive/My Drive/media/Thai_MNIST/test-labels-idx1-ubyte.gz\n"
          ],
          "name": "stdout"
        }
      ]
    },
    {
      "cell_type": "code",
      "metadata": {
        "id": "g0Zl2a7w1oOc",
        "colab_type": "code",
        "colab": {}
      },
      "source": [
        "#the shape is Thai MNIST is a little different\n",
        "#need to reshape so that pyplot can show images\n",
        "x_train_th = x_train_th.reshape(x_train_th.shape[0]\\\n",
        "                                , x_train_th.shape[1], x_train_th.shape[2])\n",
        "\n",
        "fig = plt.figure(figsize=(10,10))\n",
        "\n",
        "for i in range(num_classes):\n",
        "  for j in range(10):\n",
        "    ax = fig.add_subplot(10, 10, 1 + i*10  + j, xticks=[], yticks=[])\n",
        "    #print((y_train[:]==i)[0:10])\n",
        "    features_idx = x_train_th[y_train_th[:]==i,:]\n",
        "    #ax.set_title(\"Num: \" + str(i))\n",
        "    plt.imshow(features_idx[j], cmap=\"gray\")\n",
        "plt.show()"
      ],
      "execution_count": 0,
      "outputs": []
    },
    {
      "cell_type": "code",
      "metadata": {
        "id": "5ZSr3YIN79JM",
        "colab_type": "code",
        "outputId": "b061e736-6407-48ed-a48c-48bafa4a2c0f",
        "colab": {
          "base_uri": "https://localhost:8080/",
          "height": 121
        }
      },
      "source": [
        "#pre-process the data\n",
        "#we reshape the dataset to be flat as the input for the model is also 1D\n",
        "#note \n",
        "\n",
        "import numpy as np\n",
        "\n",
        "x_train_org = x_train_org.reshape(x_train_org.shape[0], 28, 28, 1)\n",
        "x_test_org = x_test_org.reshape(x_test_org.shape[0], 28, 28, 1)\n",
        "x_train_org = x_train_org.astype('float32')\n",
        "x_test_org = x_test_org.astype('float32')\n",
        "x_train_org /= 255.\n",
        "x_test_org /= 255.\n",
        "\n",
        "# convert class vectors to binary class matrices\n",
        "y_train_org_onehot = keras.utils.to_categorical(y_train_org, num_classes)\n",
        "y_test_org_onehot = keras.utils.to_categorical(y_test_org, num_classes)\n",
        "\n",
        "print(x_train_org.shape[0], 'train samples - original')\n",
        "print(x_test_org.shape[0], 'test samples - original')\n",
        "\n",
        "\n",
        "x_train_th = x_train_th.reshape(x_train_th.shape[0], 28, 28, 1)\n",
        "x_test_th = x_test_th.reshape(x_test_th.shape[0], 28, 28 ,1)\n",
        "x_train_th = x_train_th.astype('float32')\n",
        "x_test_th = x_test_th.astype('float32')\n",
        "x_train_th /= 255.\n",
        "x_test_th /= 255.\n",
        "\n",
        "# convert class vectors to binary class matrices\n",
        "y_train_th_onehot = keras.utils.to_categorical(y_train_th, num_classes)\n",
        "y_test_th_onehot = keras.utils.to_categorical(y_test_th, num_classes)\n",
        "\n",
        "print(x_train_th.shape[0], 'train samples - Thai')\n",
        "print(x_test_th.shape[0], 'test samples - Thai')\n",
        "\n",
        "\n",
        "\n",
        "#merge both dataset into one\n",
        "#note the color of one dataset is different from the other\n",
        "#this converts on the preference of Thai MNIST (that the background is white) \n",
        "#so we subtract the value out of one to inverse the color \n",
        "x_train_combo = np.concatenate((1. - x_train_org, x_train_th), axis = 0)\n",
        "y_train_combo = np.concatenate((y_train_org_onehot, y_train_th_onehot), axis = 0)\n",
        "\n",
        "x_test_combo = np.concatenate((1. - x_test_org, x_test_th), axis = 0)\n",
        "y_test_combo = np.concatenate((y_test_org_onehot, y_test_th_onehot), axis = 0)\n",
        "\n",
        "print(x_train_combo.shape[0], 'train samples - all')\n",
        "print(x_test_combo.shape[0], 'test samples - all')"
      ],
      "execution_count": 0,
      "outputs": [
        {
          "output_type": "stream",
          "text": [
            "60000 train samples - original\n",
            "10000 test samples - original\n",
            "284977 train samples - Thai\n",
            "31659 test samples - Thai\n",
            "344977 train samples - all\n",
            "41659 test samples - all\n"
          ],
          "name": "stdout"
        }
      ]
    },
    {
      "cell_type": "code",
      "metadata": {
        "id": "I4sV1kvYxdps",
        "colab_type": "code",
        "outputId": "85cd47e7-30a0-4183-fdc7-0f1dc277555d",
        "colab": {
          "base_uri": "https://localhost:8080/",
          "height": 731
        }
      },
      "source": [
        "model = Sequential()\n",
        "model.add(Conv2D(6, 5, padding='same', activation='relu', input_shape=(28,28,1)))\n",
        "model.add(AveragePooling2D(pool_size=(2, 2)))\n",
        "model.add(Conv2D(16, 5, padding='valid', activation='relu'))\n",
        "model.add(AveragePooling2D(pool_size=(2, 2)))\n",
        "model.add(Flatten())\n",
        "model.add(Dense(120, activation='relu'))\n",
        "model.add(Dropout(dropout_rate))\n",
        "model.add(Dense(84, activation='relu'))\n",
        "model.add(Dropout(dropout_rate))\n",
        "model.add(Dense(num_classes, activation='softmax'))\n",
        "\n",
        "model.summary()"
      ],
      "execution_count": 0,
      "outputs": [
        {
          "output_type": "stream",
          "text": [
            "W0824 09:25:31.723537 139921453045632 deprecation_wrapper.py:119] From /usr/local/lib/python3.6/dist-packages/keras/backend/tensorflow_backend.py:74: The name tf.get_default_graph is deprecated. Please use tf.compat.v1.get_default_graph instead.\n",
            "\n",
            "W0824 09:25:31.726614 139921453045632 deprecation_wrapper.py:119] From /usr/local/lib/python3.6/dist-packages/keras/backend/tensorflow_backend.py:517: The name tf.placeholder is deprecated. Please use tf.compat.v1.placeholder instead.\n",
            "\n",
            "W0824 09:25:31.730400 139921453045632 deprecation_wrapper.py:119] From /usr/local/lib/python3.6/dist-packages/keras/backend/tensorflow_backend.py:4138: The name tf.random_uniform is deprecated. Please use tf.random.uniform instead.\n",
            "\n",
            "W0824 09:25:31.749069 139921453045632 deprecation_wrapper.py:119] From /usr/local/lib/python3.6/dist-packages/keras/backend/tensorflow_backend.py:3980: The name tf.nn.avg_pool is deprecated. Please use tf.nn.avg_pool2d instead.\n",
            "\n",
            "W0824 09:25:31.786457 139921453045632 deprecation_wrapper.py:119] From /usr/local/lib/python3.6/dist-packages/keras/backend/tensorflow_backend.py:133: The name tf.placeholder_with_default is deprecated. Please use tf.compat.v1.placeholder_with_default instead.\n",
            "\n",
            "W0824 09:25:31.795732 139921453045632 deprecation.py:506] From /usr/local/lib/python3.6/dist-packages/keras/backend/tensorflow_backend.py:3445: calling dropout (from tensorflow.python.ops.nn_ops) with keep_prob is deprecated and will be removed in a future version.\n",
            "Instructions for updating:\n",
            "Please use `rate` instead of `keep_prob`. Rate should be set to `rate = 1 - keep_prob`.\n"
          ],
          "name": "stderr"
        },
        {
          "output_type": "stream",
          "text": [
            "_________________________________________________________________\n",
            "Layer (type)                 Output Shape              Param #   \n",
            "=================================================================\n",
            "conv2d_1 (Conv2D)            (None, 28, 28, 6)         156       \n",
            "_________________________________________________________________\n",
            "average_pooling2d_1 (Average (None, 14, 14, 6)         0         \n",
            "_________________________________________________________________\n",
            "conv2d_2 (Conv2D)            (None, 10, 10, 16)        2416      \n",
            "_________________________________________________________________\n",
            "average_pooling2d_2 (Average (None, 5, 5, 16)          0         \n",
            "_________________________________________________________________\n",
            "flatten_1 (Flatten)          (None, 400)               0         \n",
            "_________________________________________________________________\n",
            "dense_1 (Dense)              (None, 120)               48120     \n",
            "_________________________________________________________________\n",
            "dropout_1 (Dropout)          (None, 120)               0         \n",
            "_________________________________________________________________\n",
            "dense_2 (Dense)              (None, 84)                10164     \n",
            "_________________________________________________________________\n",
            "dropout_2 (Dropout)          (None, 84)                0         \n",
            "_________________________________________________________________\n",
            "dense_3 (Dense)              (None, 10)                850       \n",
            "=================================================================\n",
            "Total params: 61,706\n",
            "Trainable params: 61,706\n",
            "Non-trainable params: 0\n",
            "_________________________________________________________________\n"
          ],
          "name": "stdout"
        }
      ]
    },
    {
      "cell_type": "code",
      "metadata": {
        "id": "swVU66U1xis7",
        "colab_type": "code",
        "outputId": "474fb6b7-2140-4151-fd25-3bb47ee9b5be",
        "cellView": "both",
        "colab": {
          "base_uri": "https://localhost:8080/",
          "height": 523
        }
      },
      "source": [
        "model.compile(loss='categorical_crossentropy',\n",
        "              optimizer=RMSprop(lr=learning_rate),\n",
        "              metrics=['accuracy'])\n",
        "\n",
        "history = model.fit(x_train_combo, y_train_combo,\n",
        "                    batch_size=batch_size,\n",
        "                    epochs=epochs,\n",
        "                    verbose=1,\n",
        "                    validation_data=(x_test_combo, y_test_combo))"
      ],
      "execution_count": 0,
      "outputs": [
        {
          "output_type": "stream",
          "text": [
            "W0824 09:26:04.551367 139921453045632 deprecation_wrapper.py:119] From /usr/local/lib/python3.6/dist-packages/keras/optimizers.py:790: The name tf.train.Optimizer is deprecated. Please use tf.compat.v1.train.Optimizer instead.\n",
            "\n",
            "W0824 09:26:04.560419 139921453045632 deprecation_wrapper.py:119] From /usr/local/lib/python3.6/dist-packages/keras/backend/tensorflow_backend.py:3295: The name tf.log is deprecated. Please use tf.math.log instead.\n",
            "\n",
            "W0824 09:26:04.675585 139921453045632 deprecation.py:323] From /usr/local/lib/python3.6/dist-packages/tensorflow/python/ops/math_grad.py:1250: add_dispatch_support.<locals>.wrapper (from tensorflow.python.ops.array_ops) is deprecated and will be removed in a future version.\n",
            "Instructions for updating:\n",
            "Use tf.where in 2.0, which has the same broadcast rule as np.where\n"
          ],
          "name": "stderr"
        },
        {
          "output_type": "stream",
          "text": [
            "Train on 344977 samples, validate on 41659 samples\n",
            "Epoch 1/10\n",
            "344977/344977 [==============================] - 25s 72us/step - loss: 0.2379 - acc: 0.9245 - val_loss: 0.0791 - val_acc: 0.9751\n",
            "Epoch 2/10\n",
            "344977/344977 [==============================] - 23s 68us/step - loss: 0.0570 - acc: 0.9824 - val_loss: 0.0462 - val_acc: 0.9864\n",
            "Epoch 3/10\n",
            "344977/344977 [==============================] - 23s 67us/step - loss: 0.0425 - acc: 0.9871 - val_loss: 0.0611 - val_acc: 0.9819\n",
            "Epoch 4/10\n",
            "344977/344977 [==============================] - 23s 68us/step - loss: 0.0364 - acc: 0.9892 - val_loss: 0.0376 - val_acc: 0.9881\n",
            "Epoch 5/10\n",
            "344977/344977 [==============================] - 23s 67us/step - loss: 0.0330 - acc: 0.9903 - val_loss: 0.0325 - val_acc: 0.9904\n",
            "Epoch 6/10\n",
            "344977/344977 [==============================] - 23s 68us/step - loss: 0.0310 - acc: 0.9910 - val_loss: 0.0351 - val_acc: 0.9902\n",
            "Epoch 7/10\n",
            "344977/344977 [==============================] - 23s 67us/step - loss: 0.0302 - acc: 0.9911 - val_loss: 0.0384 - val_acc: 0.9900\n",
            "Epoch 8/10\n",
            "344977/344977 [==============================] - 24s 68us/step - loss: 0.0302 - acc: 0.9913 - val_loss: 0.0357 - val_acc: 0.9889\n",
            "Epoch 9/10\n",
            "344977/344977 [==============================] - 23s 68us/step - loss: 0.0301 - acc: 0.9913 - val_loss: 0.0539 - val_acc: 0.9879\n",
            "Epoch 10/10\n",
            "344977/344977 [==============================] - 23s 68us/step - loss: 0.0311 - acc: 0.9911 - val_loss: 0.0464 - val_acc: 0.9893\n"
          ],
          "name": "stdout"
        }
      ]
    },
    {
      "cell_type": "code",
      "metadata": {
        "id": "8vM6Jh_oWJik",
        "colab_type": "code",
        "outputId": "940125ea-59d9-4a31-fa34-95b48cf4bac6",
        "colab": {
          "base_uri": "https://localhost:8080/",
          "height": 156
        }
      },
      "source": [
        "score = model.evaluate(x_test_combo, y_test_combo, verbose=0)\n",
        "print('Test loss - all:', score[0])\n",
        "print('Test accuracy - all:', score[1])\n",
        "\n",
        "#evaluate the model with original dataset - with inverse color\n",
        "score = model.evaluate((1. - x_test_org), y_test_org_onehot, verbose=0)\n",
        "print('\\nTest loss - original:', score[0])\n",
        "print('Test accuracy - original:', score[1])\n",
        "\n",
        "#evaluate the model with only Thai MNIST dataset\n",
        "score = model.evaluate(x_test_th, y_test_th_onehot, verbose=0)\n",
        "print('\\nTest loss - Thai:', score[0])\n",
        "print('Test accuracy - Thai:', score[1])"
      ],
      "execution_count": 0,
      "outputs": [
        {
          "output_type": "stream",
          "text": [
            "Test loss - all: 0.04640389976519505\n",
            "Test accuracy - all: 0.9893180345183514\n",
            "\n",
            "Test loss - original: 0.044620387279321036\n",
            "Test accuracy - original: 0.988\n",
            "\n",
            "Test loss - Thai: 0.04696725046485013\n",
            "Test accuracy - Thai: 0.989734356739\n"
          ],
          "name": "stdout"
        }
      ]
    },
    {
      "cell_type": "code",
      "metadata": {
        "id": "6D1tKnAMETTh",
        "colab_type": "code",
        "outputId": "5ff0b47b-92bb-40fa-d16e-d5c413791eeb",
        "colab": {
          "base_uri": "https://localhost:8080/",
          "height": 563
        }
      },
      "source": [
        "%matplotlib inline\n",
        "\n",
        "import matplotlib.pyplot as plt\n",
        "import matplotlib.image as mpimg\n",
        "\n",
        "\n",
        "# Retrieve a list of accuracy results on training and test data\n",
        "# sets for each training epoch\n",
        "acc = history.history['acc']\n",
        "val_acc = history.history['val_acc']\n",
        "\n",
        "# Retrieve a list of list results on training and test data\n",
        "# sets for each training epoch\n",
        "loss = history.history['loss']\n",
        "val_loss = history.history['val_loss']\n",
        "\n",
        "# Get number of epochs\n",
        "epochs = range(len(acc))\n",
        "\n",
        "# Plot training and validation accuracy per epoch\n",
        "plt.plot(epochs, acc)\n",
        "plt.plot(epochs, val_acc)\n",
        "plt.title('Training and validation accuracy')\n",
        "\n",
        "plt.figure()\n",
        "\n",
        "# Plot training and validation loss per epoch\n",
        "plt.plot(epochs, loss)\n",
        "plt.plot(epochs, val_loss)\n",
        "plt.title('Training and validation loss')\n",
        "\n"
      ],
      "execution_count": 0,
      "outputs": [
        {
          "output_type": "execute_result",
          "data": {
            "text/plain": [
              "Text(0.5, 1.0, 'Training and validation loss')"
            ]
          },
          "metadata": {
            "tags": []
          },
          "execution_count": 9
        },
        {
          "output_type": "display_data",
          "data": {
            "image/png": "[encoded data removed]",
            "text/plain": [
              "<Figure size 432x288 with 1 Axes>"
            ]
          },
          "metadata": {
            "tags": []
          }
        },
        {
          "output_type": "display_data",
          "data": {
            "image/png": "[encoded data removed]",
            "text/plain": [
              "<Figure size 432x288 with 1 Axes>"
            ]
          },
          "metadata": {
            "tags": []
          }
        }
      ]
    },
    {
      "cell_type": "code",
      "metadata": {
        "id": "ENh3fLhPMGpW",
        "colab_type": "code",
        "outputId": "b89de0ea-ffc3-4c79-bcb2-c189d27fcda8",
        "colab": {
          "base_uri": "https://localhost:8080/",
          "height": 719
        }
      },
      "source": [
        "from keras.preprocessing import image\n",
        "import numpy as np\n",
        "\n",
        "img_path = '/content/drive/My Drive/photos/test_numbers/Sample7.jpg'\n",
        "img = image.load_img(img_path, target_size=(28,28))\n",
        "x = image.img_to_array(img)\n",
        "x /= 255.\n",
        "plt.title('Input in 28*28 size (RGB)')\n",
        "plt.imshow(x)\n",
        "plt.figure()\n",
        "\n",
        "print('x shape before expanding the dimension: ', x.shape)\n",
        "x = np.expand_dims(x, axis = 0)\n",
        "\n",
        "print('x shape after expanding the dimension: ', x.shape)\n",
        "\n",
        "x = np.dot(x[...,:3], [0.2989, 0.5870, 0.1140])\n",
        "print('x shape after converting to grayscale: ', x.shape)\n",
        "\n",
        "\n",
        "#x = x_test_combo[25000]\n",
        "#x = x.reshape(1,28,28)\n",
        "plt.title('Input in 28*28 size (Grayscale)')\n",
        "plt.imshow(x[0], cmap=\"gray\")\n",
        "\n",
        "x = x.reshape(x.shape[0],  28, 28, 1)\n",
        "print('x shape after reshaping for the model input: ', x.shape)\n",
        "\n",
        "y = model.predict(x)\n",
        "#x_test_org\n",
        "\n",
        "print('Shape of prediction: ', y.shape)\n",
        "\n",
        "print('Prediction of the input: ',y)\n",
        "\n",
        "print('Max probability: ', np.max(y))\n",
        "\n",
        "print('Index of max prob: ', np.where(y == np.max(y)))\n",
        "\n",
        "\n"
      ],
      "execution_count": 0,
      "outputs": [
        {
          "output_type": "stream",
          "text": [
            "x shape before expanding the dimension:  (28, 28, 3)\n",
            "x shape after expanding the dimension:  (1, 28, 28, 3)\n",
            "x shape after converting to grayscale:  (1, 28, 28)\n",
            "x shape after reshaping for the model input:  (1, 28, 28, 1)\n",
            "Shape of prediction:  (1, 10)\n",
            "Prediction of the input:  [[9.15611759e-02 6.26187623e-01 3.71889801e-05 7.46906080e-05\n",
            "  1.97225716e-03 2.67766794e-04 7.04786225e-06 1.58106685e-01\n",
            "  4.31668654e-04 1.21353924e-01]]\n",
            "Max probability:  0.6261876\n",
            "Index of max prob:  (array([0]), array([1]))\n"
          ],
          "name": "stdout"
        },
        {
          "output_type": "display_data",
          "data": {
            "image/png": "[encoded data removed]",
            "text/plain": [
              "<Figure size 432x288 with 1 Axes>"
            ]
          },
          "metadata": {
            "tags": []
          }
        },
        {
          "output_type": "display_data",
          "data": {
            "image/png": "[encoded data removed]",
            "text/plain": [
              "<Figure size 432x288 with 1 Axes>"
            ]
          },
          "metadata": {
            "tags": []
          }
        }
      ]
    },
    {
      "cell_type": "code",
      "metadata": {
        "id": "WLn9m-GUNLC0",
        "colab_type": "code",
        "outputId": "b6abd3b3-e8a7-42b8-f9a0-dd7e9a16770e",
        "colab": {
          "base_uri": "https://localhost:8080/",
          "height": 50
        }
      },
      "source": [
        "y = model.predict(x)\n",
        "\n",
        "print(y)\n"
      ],
      "execution_count": 0,
      "outputs": [
        {
          "output_type": "stream",
          "text": [
            "[[8.9354885e-01 1.4545490e-03 5.0254451e-04 6.7053840e-04 5.0300773e-04\n",
            "  5.0780401e-02 2.0163029e-03 1.7180278e-03 4.1802279e-03 4.4625577e-02]]\n"
          ],
          "name": "stdout"
        }
      ]
    }
  ]
}