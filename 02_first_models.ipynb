{
  "nbformat": 4,
  "nbformat_minor": 0,
  "metadata": {
    "colab": {
      "name": "02_first_models.ipynb",
      "provenance": [],
      "include_colab_link": true
    },
    "kernelspec": {
      "name": "python3",
      "display_name": "Python 3"
    },
    "accelerator": "GPU"
  },
  "cells": [
    {
      "cell_type": "markdown",
      "metadata": {
        "id": "view-in-github",
        "colab_type": "text"
      },
      "source": [
        "<a href=\"https://colab.research.google.com/github/pannhapat/udacity_1001/blob/master/02_first_models.ipynb\" target=\"_parent\"><img src=\"https://colab.research.google.com/assets/colab-badge.svg\" alt=\"Open In Colab\"/></a>"
      ]
    },
    {
      "cell_type": "code",
      "metadata": {
        "id": "IYBcRHlkA6w1",
        "colab_type": "code",
        "outputId": "d93a1135-7a3d-4ca3-b7a8-d220525ab0e5",
        "colab": {
          "base_uri": "https://localhost:8080/",
          "height": 35
        }
      },
      "source": [
        "import numpy as np\n",
        "\n",
        "import keras\n",
        "from keras.models import Sequential\n",
        "from keras.layers import Dense\n",
        "from keras.optimizers import SGD\n"
      ],
      "execution_count": 0,
      "outputs": [
        {
          "output_type": "stream",
          "text": [
            "Using TensorFlow backend.\n"
          ],
          "name": "stderr"
        }
      ]
    },
    {
      "cell_type": "code",
      "metadata": {
        "id": "iAQaSiqmCFsx",
        "colab_type": "code",
        "colab": {}
      },
      "source": [
        "dataset_size = 1000\n",
        "\n",
        "X1 = np.round(np.random.uniform(size=dataset_size))\n",
        "X2 = np.round(np.random.uniform(size=dataset_size))\n",
        "Y = np.logical_xor(X1,X2).astype(float)\n"
      ],
      "execution_count": 0,
      "outputs": []
    },
    {
      "cell_type": "code",
      "metadata": {
        "id": "eLpIw-0VEOrY",
        "colab_type": "code",
        "colab": {}
      },
      "source": [
        "X = np.zeros((dataset_size,2))\n",
        "X[:,0] = X1\n",
        "X[:,1] = X2\n",
        "\n",
        "Y = Y.reshape((dataset_size,1))"
      ],
      "execution_count": 0,
      "outputs": []
    },
    {
      "cell_type": "code",
      "metadata": {
        "id": "e1__QFulDyB5",
        "colab_type": "code",
        "outputId": "5bc197ad-2b08-40f1-cb86-18342ac4dbe5",
        "colab": {
          "base_uri": "https://localhost:8080/",
          "height": 384
        }
      },
      "source": [
        "xor_predictor = Sequential()\n",
        "xor_predictor.add(Dense(4, activation='sigmoid', input_shape=(2,),\\\n",
        "                       name='hidden_layer_1'))\n",
        "xor_predictor.add(Dense(4, activation='sigmoid', name='hidden_layer_2'))\n",
        "xor_predictor.add(Dense(1, activation='sigmoid', name='output_layer'))\n",
        "\n",
        "xor_predictor.summary()"
      ],
      "execution_count": 0,
      "outputs": [
        {
          "output_type": "stream",
          "text": [
            "WARNING: Logging before flag parsing goes to stderr.\n",
            "W0824 07:17:47.857383 139847128078208 deprecation_wrapper.py:119] From /usr/local/lib/python3.6/dist-packages/keras/backend/tensorflow_backend.py:74: The name tf.get_default_graph is deprecated. Please use tf.compat.v1.get_default_graph instead.\n",
            "\n",
            "W0824 07:17:47.875870 139847128078208 deprecation_wrapper.py:119] From /usr/local/lib/python3.6/dist-packages/keras/backend/tensorflow_backend.py:517: The name tf.placeholder is deprecated. Please use tf.compat.v1.placeholder instead.\n",
            "\n",
            "W0824 07:17:47.878547 139847128078208 deprecation_wrapper.py:119] From /usr/local/lib/python3.6/dist-packages/keras/backend/tensorflow_backend.py:4138: The name tf.random_uniform is deprecated. Please use tf.random.uniform instead.\n",
            "\n"
          ],
          "name": "stderr"
        },
        {
          "output_type": "stream",
          "text": [
            "_________________________________________________________________\n",
            "Layer (type)                 Output Shape              Param #   \n",
            "=================================================================\n",
            "hidden_layer_1 (Dense)       (None, 4)                 12        \n",
            "_________________________________________________________________\n",
            "hidden_layer_2 (Dense)       (None, 4)                 20        \n",
            "_________________________________________________________________\n",
            "output_layer (Dense)         (None, 1)                 5         \n",
            "=================================================================\n",
            "Total params: 37\n",
            "Trainable params: 37\n",
            "Non-trainable params: 0\n",
            "_________________________________________________________________\n"
          ],
          "name": "stdout"
        }
      ]
    },
    {
      "cell_type": "code",
      "metadata": {
        "id": "GG0yVPAMGXo5",
        "colab_type": "code",
        "outputId": "f2fb7bc6-d913-40fc-8229-cad08388db6a",
        "colab": {
          "base_uri": "https://localhost:8080/",
          "height": 367
        }
      },
      "source": [
        "xor_predictor.get_weights()"
      ],
      "execution_count": 0,
      "outputs": [
        {
          "output_type": "stream",
          "text": [
            "W0824 07:18:09.536422 139847128078208 deprecation_wrapper.py:119] From /usr/local/lib/python3.6/dist-packages/keras/backend/tensorflow_backend.py:174: The name tf.get_default_session is deprecated. Please use tf.compat.v1.get_default_session instead.\n",
            "\n",
            "W0824 07:18:09.538508 139847128078208 deprecation_wrapper.py:119] From /usr/local/lib/python3.6/dist-packages/keras/backend/tensorflow_backend.py:181: The name tf.ConfigProto is deprecated. Please use tf.compat.v1.ConfigProto instead.\n",
            "\n"
          ],
          "name": "stderr"
        },
        {
          "output_type": "execute_result",
          "data": {
            "text/plain": [
              "[array([[ 0.7201967 , -0.7666919 , -0.59621763, -0.99462986],\n",
              "        [-0.24410439, -0.15585732, -0.7466223 , -0.74877167]],\n",
              "       dtype=float32),\n",
              " array([0., 0., 0., 0.], dtype=float32),\n",
              " array([[ 0.82287925, -0.58081377,  0.26867884,  0.53216773],\n",
              "        [-0.6853929 ,  0.20800215, -0.6918744 , -0.24410337],\n",
              "        [-0.23071629, -0.24250174,  0.73662037, -0.73589563],\n",
              "        [ 0.28147608,  0.68533653,  0.03080714,  0.51696795]],\n",
              "       dtype=float32),\n",
              " array([0., 0., 0., 0.], dtype=float32),\n",
              " array([[-0.11235881],\n",
              "        [-0.19073468],\n",
              "        [ 0.20894063],\n",
              "        [-0.13655823]], dtype=float32),\n",
              " array([0.], dtype=float32)]"
            ]
          },
          "metadata": {
            "tags": []
          },
          "execution_count": 5
        }
      ]
    },
    {
      "cell_type": "code",
      "metadata": {
        "id": "mS1C-3iPD_3x",
        "colab_type": "code",
        "outputId": "308af482-823e-4310-cb10-9a83da32b774",
        "colab": {
          "base_uri": "https://localhost:8080/",
          "height": 364
        }
      },
      "source": [
        "print(xor_predictor.predict(X[:10,:]))\n",
        "print(Y[:10,:])\n"
      ],
      "execution_count": 0,
      "outputs": [
        {
          "output_type": "stream",
          "text": [
            "[[0.47113094]\n",
            " [0.47113094]\n",
            " [0.47113094]\n",
            " [0.47113094]\n",
            " [0.47113094]\n",
            " [0.47113094]\n",
            " [0.47205952]\n",
            " [0.47205952]\n",
            " [0.47206807]\n",
            " [0.47113088]]\n",
            "[[1.]\n",
            " [1.]\n",
            " [1.]\n",
            " [1.]\n",
            " [1.]\n",
            " [1.]\n",
            " [0.]\n",
            " [0.]\n",
            " [0.]\n",
            " [1.]]\n"
          ],
          "name": "stdout"
        }
      ]
    },
    {
      "cell_type": "code",
      "metadata": {
        "id": "IBjdF7XvHrOY",
        "colab_type": "code",
        "outputId": "54affb95-3f64-4406-a8f3-fa669be8ddb3",
        "colab": {
          "base_uri": "https://localhost:8080/",
          "height": 72
        }
      },
      "source": [
        "xor_predictor.compile(loss='MSE',\n",
        "              optimizer=SGD(lr=3),\n",
        "              metrics=['accuracy'])"
      ],
      "execution_count": 0,
      "outputs": [
        {
          "output_type": "stream",
          "text": [
            "W0824 07:20:40.024378 139847128078208 deprecation_wrapper.py:119] From /usr/local/lib/python3.6/dist-packages/keras/optimizers.py:790: The name tf.train.Optimizer is deprecated. Please use tf.compat.v1.train.Optimizer instead.\n",
            "\n"
          ],
          "name": "stderr"
        }
      ]
    },
    {
      "cell_type": "code",
      "metadata": {
        "id": "GWRDlAMBGQHh",
        "colab_type": "code",
        "outputId": "0a932e0c-5803-401f-8c0d-981748064d79",
        "colab": {
          "base_uri": "https://localhost:8080/",
          "height": 121
        }
      },
      "source": [
        "[loss_value, accuracy_value] = xor_predictor.evaluate(X,Y)\n",
        "print(loss_value)\n",
        "print(accuracy_value)\n",
        "[loss_value, accuracy_value] = xor_predictor.evaluate(X[:10,:],Y[:10,:])\n",
        "print(loss_value)\n",
        "print(accuracy_value)"
      ],
      "execution_count": 0,
      "outputs": [
        {
          "output_type": "stream",
          "text": [
            "1000/1000 [==============================] - 0s 80us/step\n",
            "0.250889274597168\n",
            "0.497\n",
            "10/10 [==============================] - 0s 288us/step\n",
            "0.26264458894729614\n",
            "0.30000001192092896\n"
          ],
          "name": "stdout"
        }
      ]
    },
    {
      "cell_type": "code",
      "metadata": {
        "id": "ZXbg3jnqJpu4",
        "colab_type": "code",
        "outputId": "4c0771d2-c609-4d7a-d7d0-38cb6987379e",
        "colab": {
          "base_uri": "https://localhost:8080/",
          "height": 1000
        }
      },
      "source": [
        "history = xor_predictor.fit(X, Y,\n",
        "                    batch_size=128,\n",
        "                    epochs=100)"
      ],
      "execution_count": 0,
      "outputs": [
        {
          "output_type": "stream",
          "text": [
            "Epoch 1/100\n",
            "1000/1000 [==============================] - 0s 120us/step - loss: 0.2496 - acc: 0.5510\n",
            "Epoch 2/100\n",
            "1000/1000 [==============================] - 0s 32us/step - loss: 0.2505 - acc: 0.5130\n",
            "Epoch 3/100\n",
            "1000/1000 [==============================] - 0s 30us/step - loss: 0.2514 - acc: 0.4990\n",
            "Epoch 4/100\n",
            "1000/1000 [==============================] - 0s 34us/step - loss: 0.2514 - acc: 0.4930\n",
            "Epoch 5/100\n",
            "1000/1000 [==============================] - 0s 30us/step - loss: 0.2503 - acc: 0.5130\n",
            "Epoch 6/100\n",
            "1000/1000 [==============================] - 0s 32us/step - loss: 0.2492 - acc: 0.5310\n",
            "Epoch 7/100\n",
            "1000/1000 [==============================] - 0s 31us/step - loss: 0.2532 - acc: 0.4810\n",
            "Epoch 8/100\n",
            "1000/1000 [==============================] - 0s 30us/step - loss: 0.2523 - acc: 0.4730\n",
            "Epoch 9/100\n",
            "1000/1000 [==============================] - 0s 28us/step - loss: 0.2499 - acc: 0.5210\n",
            "Epoch 10/100\n",
            "1000/1000 [==============================] - 0s 34us/step - loss: 0.2514 - acc: 0.4830\n",
            "Epoch 11/100\n",
            "1000/1000 [==============================] - 0s 31us/step - loss: 0.2530 - acc: 0.4850\n",
            "Epoch 12/100\n",
            "1000/1000 [==============================] - 0s 31us/step - loss: 0.2510 - acc: 0.5210\n",
            "Epoch 13/100\n",
            "1000/1000 [==============================] - 0s 31us/step - loss: 0.2502 - acc: 0.5280\n",
            "Epoch 14/100\n",
            "1000/1000 [==============================] - 0s 28us/step - loss: 0.2503 - acc: 0.4920\n",
            "Epoch 15/100\n",
            "1000/1000 [==============================] - 0s 23us/step - loss: 0.2517 - acc: 0.4990\n",
            "Epoch 16/100\n",
            "1000/1000 [==============================] - 0s 24us/step - loss: 0.2514 - acc: 0.4960\n",
            "Epoch 17/100\n",
            "1000/1000 [==============================] - 0s 29us/step - loss: 0.2501 - acc: 0.5130\n",
            "Epoch 18/100\n",
            "1000/1000 [==============================] - 0s 28us/step - loss: 0.2509 - acc: 0.5020\n",
            "Epoch 19/100\n",
            "1000/1000 [==============================] - 0s 30us/step - loss: 0.2498 - acc: 0.5710\n",
            "Epoch 20/100\n",
            "1000/1000 [==============================] - 0s 22us/step - loss: 0.2502 - acc: 0.5510\n",
            "Epoch 21/100\n",
            "1000/1000 [==============================] - 0s 26us/step - loss: 0.2517 - acc: 0.4750\n",
            "Epoch 22/100\n",
            "1000/1000 [==============================] - 0s 24us/step - loss: 0.2513 - acc: 0.4830\n",
            "Epoch 23/100\n",
            "1000/1000 [==============================] - 0s 24us/step - loss: 0.2494 - acc: 0.4770\n",
            "Epoch 24/100\n",
            "1000/1000 [==============================] - 0s 29us/step - loss: 0.2499 - acc: 0.5030\n",
            "Epoch 25/100\n",
            "1000/1000 [==============================] - 0s 27us/step - loss: 0.2491 - acc: 0.5040\n",
            "Epoch 26/100\n",
            "1000/1000 [==============================] - 0s 29us/step - loss: 0.2491 - acc: 0.5440\n",
            "Epoch 27/100\n",
            "1000/1000 [==============================] - 0s 29us/step - loss: 0.2489 - acc: 0.5430\n",
            "Epoch 28/100\n",
            "1000/1000 [==============================] - 0s 29us/step - loss: 0.2486 - acc: 0.4590\n",
            "Epoch 29/100\n",
            "1000/1000 [==============================] - 0s 30us/step - loss: 0.2498 - acc: 0.5490\n",
            "Epoch 30/100\n",
            "1000/1000 [==============================] - 0s 25us/step - loss: 0.2496 - acc: 0.5150\n",
            "Epoch 31/100\n",
            "1000/1000 [==============================] - 0s 24us/step - loss: 0.2477 - acc: 0.5270\n",
            "Epoch 32/100\n",
            "1000/1000 [==============================] - 0s 25us/step - loss: 0.2465 - acc: 0.5420\n",
            "Epoch 33/100\n",
            "1000/1000 [==============================] - 0s 29us/step - loss: 0.2490 - acc: 0.5700\n",
            "Epoch 34/100\n",
            "1000/1000 [==============================] - 0s 27us/step - loss: 0.2451 - acc: 0.5860\n",
            "Epoch 35/100\n",
            "1000/1000 [==============================] - 0s 27us/step - loss: 0.2458 - acc: 0.5110\n",
            "Epoch 36/100\n",
            "1000/1000 [==============================] - 0s 26us/step - loss: 0.2434 - acc: 0.5220\n",
            "Epoch 37/100\n",
            "1000/1000 [==============================] - 0s 23us/step - loss: 0.2428 - acc: 0.5810\n",
            "Epoch 38/100\n",
            "1000/1000 [==============================] - 0s 29us/step - loss: 0.2382 - acc: 0.6930\n",
            "Epoch 39/100\n",
            "1000/1000 [==============================] - 0s 28us/step - loss: 0.2383 - acc: 0.6080\n",
            "Epoch 40/100\n",
            "1000/1000 [==============================] - 0s 24us/step - loss: 0.2329 - acc: 0.5970\n",
            "Epoch 41/100\n",
            "1000/1000 [==============================] - 0s 30us/step - loss: 0.2265 - acc: 0.7210\n",
            "Epoch 42/100\n",
            "1000/1000 [==============================] - 0s 29us/step - loss: 0.2236 - acc: 0.6080\n",
            "Epoch 43/100\n",
            "1000/1000 [==============================] - 0s 27us/step - loss: 0.2148 - acc: 0.7540\n",
            "Epoch 44/100\n",
            "1000/1000 [==============================] - 0s 26us/step - loss: 0.2068 - acc: 0.7540\n",
            "Epoch 45/100\n",
            "1000/1000 [==============================] - 0s 25us/step - loss: 0.2005 - acc: 0.7540\n",
            "Epoch 46/100\n",
            "1000/1000 [==============================] - 0s 31us/step - loss: 0.1919 - acc: 0.7540\n",
            "Epoch 47/100\n",
            "1000/1000 [==============================] - 0s 29us/step - loss: 0.1860 - acc: 0.7540\n",
            "Epoch 48/100\n",
            "1000/1000 [==============================] - 0s 29us/step - loss: 0.1749 - acc: 0.7540\n",
            "Epoch 49/100\n",
            "1000/1000 [==============================] - 0s 30us/step - loss: 0.1662 - acc: 0.7540\n",
            "Epoch 50/100\n",
            "1000/1000 [==============================] - 0s 30us/step - loss: 0.1551 - acc: 0.7540\n",
            "Epoch 51/100\n",
            "1000/1000 [==============================] - 0s 27us/step - loss: 0.1446 - acc: 0.8790\n",
            "Epoch 52/100\n",
            "1000/1000 [==============================] - 0s 29us/step - loss: 0.1360 - acc: 0.8610\n",
            "Epoch 53/100\n",
            "1000/1000 [==============================] - 0s 42us/step - loss: 0.1138 - acc: 0.8990\n",
            "Epoch 54/100\n",
            "1000/1000 [==============================] - 0s 28us/step - loss: 0.0887 - acc: 1.0000\n",
            "Epoch 55/100\n",
            "1000/1000 [==============================] - 0s 32us/step - loss: 0.0825 - acc: 0.9730\n",
            "Epoch 56/100\n",
            "1000/1000 [==============================] - 0s 30us/step - loss: 0.0687 - acc: 1.0000\n",
            "Epoch 57/100\n",
            "1000/1000 [==============================] - 0s 32us/step - loss: 0.0357 - acc: 1.0000\n",
            "Epoch 58/100\n",
            "1000/1000 [==============================] - 0s 31us/step - loss: 0.0239 - acc: 1.0000\n",
            "Epoch 59/100\n",
            "1000/1000 [==============================] - 0s 29us/step - loss: 0.0183 - acc: 1.0000\n",
            "Epoch 60/100\n",
            "1000/1000 [==============================] - 0s 37us/step - loss: 0.0146 - acc: 1.0000\n",
            "Epoch 61/100\n",
            "1000/1000 [==============================] - 0s 30us/step - loss: 0.0118 - acc: 1.0000\n",
            "Epoch 62/100\n",
            "1000/1000 [==============================] - 0s 32us/step - loss: 0.0098 - acc: 1.0000\n",
            "Epoch 63/100\n",
            "1000/1000 [==============================] - 0s 32us/step - loss: 0.0083 - acc: 1.0000\n",
            "Epoch 64/100\n",
            "1000/1000 [==============================] - 0s 30us/step - loss: 0.0071 - acc: 1.0000\n",
            "Epoch 65/100\n",
            "1000/1000 [==============================] - 0s 31us/step - loss: 0.0062 - acc: 1.0000\n",
            "Epoch 66/100\n",
            "1000/1000 [==============================] - 0s 32us/step - loss: 0.0055 - acc: 1.0000\n",
            "Epoch 67/100\n",
            "1000/1000 [==============================] - 0s 36us/step - loss: 0.0049 - acc: 1.0000\n",
            "Epoch 68/100\n",
            "1000/1000 [==============================] - 0s 33us/step - loss: 0.0044 - acc: 1.0000\n",
            "Epoch 69/100\n",
            "1000/1000 [==============================] - 0s 36us/step - loss: 0.0040 - acc: 1.0000\n",
            "Epoch 70/100\n",
            "1000/1000 [==============================] - 0s 31us/step - loss: 0.0037 - acc: 1.0000\n",
            "Epoch 71/100\n",
            "1000/1000 [==============================] - 0s 30us/step - loss: 0.0034 - acc: 1.0000\n",
            "Epoch 72/100\n",
            "1000/1000 [==============================] - 0s 29us/step - loss: 0.0031 - acc: 1.0000\n",
            "Epoch 73/100\n",
            "1000/1000 [==============================] - 0s 33us/step - loss: 0.0029 - acc: 1.0000\n",
            "Epoch 74/100\n",
            "1000/1000 [==============================] - 0s 36us/step - loss: 0.0027 - acc: 1.0000\n",
            "Epoch 75/100\n",
            "1000/1000 [==============================] - 0s 32us/step - loss: 0.0025 - acc: 1.0000\n",
            "Epoch 76/100\n",
            "1000/1000 [==============================] - 0s 32us/step - loss: 0.0023 - acc: 1.0000\n",
            "Epoch 77/100\n",
            "1000/1000 [==============================] - 0s 33us/step - loss: 0.0022 - acc: 1.0000\n",
            "Epoch 78/100\n",
            "1000/1000 [==============================] - 0s 32us/step - loss: 0.0021 - acc: 1.0000\n",
            "Epoch 79/100\n",
            "1000/1000 [==============================] - 0s 33us/step - loss: 0.0020 - acc: 1.0000\n",
            "Epoch 80/100\n",
            "1000/1000 [==============================] - 0s 32us/step - loss: 0.0019 - acc: 1.0000\n",
            "Epoch 81/100\n",
            "1000/1000 [==============================] - 0s 33us/step - loss: 0.0018 - acc: 1.0000\n",
            "Epoch 82/100\n",
            "1000/1000 [==============================] - 0s 32us/step - loss: 0.0017 - acc: 1.0000\n",
            "Epoch 83/100\n",
            "1000/1000 [==============================] - 0s 44us/step - loss: 0.0016 - acc: 1.0000\n",
            "Epoch 84/100\n",
            "1000/1000 [==============================] - 0s 31us/step - loss: 0.0015 - acc: 1.0000\n",
            "Epoch 85/100\n",
            "1000/1000 [==============================] - 0s 29us/step - loss: 0.0015 - acc: 1.0000\n",
            "Epoch 86/100\n",
            "1000/1000 [==============================] - 0s 32us/step - loss: 0.0014 - acc: 1.0000\n",
            "Epoch 87/100\n",
            "1000/1000 [==============================] - 0s 28us/step - loss: 0.0013 - acc: 1.0000\n",
            "Epoch 88/100\n",
            "1000/1000 [==============================] - 0s 34us/step - loss: 0.0013 - acc: 1.0000\n",
            "Epoch 89/100\n",
            "1000/1000 [==============================] - 0s 33us/step - loss: 0.0012 - acc: 1.0000\n",
            "Epoch 90/100\n",
            "1000/1000 [==============================] - 0s 31us/step - loss: 0.0012 - acc: 1.0000\n",
            "Epoch 91/100\n",
            "1000/1000 [==============================] - 0s 28us/step - loss: 0.0012 - acc: 1.0000\n",
            "Epoch 92/100\n",
            "1000/1000 [==============================] - 0s 28us/step - loss: 0.0011 - acc: 1.0000\n",
            "Epoch 93/100\n",
            "1000/1000 [==============================] - 0s 30us/step - loss: 0.0011 - acc: 1.0000\n",
            "Epoch 94/100\n",
            "1000/1000 [==============================] - 0s 32us/step - loss: 0.0010 - acc: 1.0000\n",
            "Epoch 95/100\n",
            "1000/1000 [==============================] - 0s 32us/step - loss: 0.0010 - acc: 1.0000\n",
            "Epoch 96/100\n",
            "1000/1000 [==============================] - 0s 31us/step - loss: 9.8098e-04 - acc: 1.0000\n",
            "Epoch 97/100\n",
            "1000/1000 [==============================] - 0s 32us/step - loss: 9.5125e-04 - acc: 1.0000\n",
            "Epoch 98/100\n",
            "1000/1000 [==============================] - 0s 43us/step - loss: 9.2304e-04 - acc: 1.0000\n",
            "Epoch 99/100\n",
            "1000/1000 [==============================] - 0s 36us/step - loss: 8.9648e-04 - acc: 1.0000\n",
            "Epoch 100/100\n",
            "1000/1000 [==============================] - 0s 30us/step - loss: 8.7145e-04 - acc: 1.0000\n"
          ],
          "name": "stdout"
        }
      ]
    },
    {
      "cell_type": "code",
      "metadata": {
        "id": "BBuxOB_GllzH",
        "colab_type": "code",
        "outputId": "84268e3c-9a07-4f86-aa20-85416e38714f",
        "colab": {
          "base_uri": "https://localhost:8080/",
          "height": 364
        }
      },
      "source": [
        "print(xor_predictor.predict(X[:10,:]))\n",
        "print(Y[:10,:])"
      ],
      "execution_count": 0,
      "outputs": [
        {
          "output_type": "stream",
          "text": [
            "[[0.9709641 ]\n",
            " [0.9709641 ]\n",
            " [0.9709641 ]\n",
            " [0.9709641 ]\n",
            " [0.9709641 ]\n",
            " [0.9709641 ]\n",
            " [0.02403924]\n",
            " [0.02403924]\n",
            " [0.03104108]\n",
            " [0.9709642 ]]\n",
            "[[1.]\n",
            " [1.]\n",
            " [1.]\n",
            " [1.]\n",
            " [1.]\n",
            " [1.]\n",
            " [0.]\n",
            " [0.]\n",
            " [0.]\n",
            " [1.]]\n"
          ],
          "name": "stdout"
        }
      ]
    },
    {
      "cell_type": "code",
      "metadata": {
        "id": "4TJclbRGl873",
        "colab_type": "code",
        "outputId": "fb84756a-9746-43a1-a7d9-5bf556fd8477",
        "colab": {
          "base_uri": "https://localhost:8080/",
          "height": 69
        }
      },
      "source": [
        "[loss_value, accuracy_value] = xor_predictor.evaluate(X[:10,:],Y[:10,:])\n",
        "print(loss_value)\n",
        "print(accuracy_value)"
      ],
      "execution_count": 0,
      "outputs": [
        {
          "output_type": "stream",
          "text": [
            "\r10/10 [==============================] - 0s 343us/step\n",
            "0.000802090740762651\n",
            "1.0\n"
          ],
          "name": "stdout"
        }
      ]
    },
    {
      "cell_type": "code",
      "metadata": {
        "id": "w1oBN1VDmVe-",
        "colab_type": "code",
        "outputId": "816c7b35-7616-48ff-a918-c56586f97d3d",
        "colab": {
          "base_uri": "https://localhost:8080/",
          "height": 277
        }
      },
      "source": [
        "xor_predictor.get_weights()"
      ],
      "execution_count": 0,
      "outputs": [
        {
          "output_type": "execute_result",
          "data": {
            "text/plain": [
              "[array([[ 1.119169  , -1.2138832 , -2.5882711 , -5.1824703 ],\n",
              "        [ 0.45303082, -0.7476984 , -2.986143  , -5.0728965 ]],\n",
              "       dtype=float32),\n",
              " array([-0.2916932,  0.6599174,  4.1145124,  1.7645859], dtype=float32),\n",
              " array([[ 1.0602481 ,  0.76571816, -0.71429765,  1.4128698 ],\n",
              "        [-1.2401382 , -0.87756854,  0.07654578, -1.030816  ],\n",
              "        [-1.5590596 , -2.976394  ,  2.8355064 , -2.8996449 ],\n",
              "        [ 1.4949052 ,  4.8810368 , -2.852967  ,  3.3183565 ]],\n",
              "       dtype=float32),\n",
              " array([-0.16478351,  0.5610282 , -0.52093554,  0.43559584], dtype=float32),\n",
              " array([[-2.1000483],\n",
              "        [-5.662868 ],\n",
              "        [ 4.627413 ],\n",
              "        [-4.3219547]], dtype=float32),\n",
              " array([2.3159149], dtype=float32)]"
            ]
          },
          "metadata": {
            "tags": []
          },
          "execution_count": 13
        }
      ]
    }
  ]
}